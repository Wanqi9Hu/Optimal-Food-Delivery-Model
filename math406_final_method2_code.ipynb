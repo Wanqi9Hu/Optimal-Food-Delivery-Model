{
  "nbformat": 4,
  "nbformat_minor": 0,
  "metadata": {
    "colab": {
      "name": "math406_final_method2.ipynb",
      "provenance": []
    },
    "kernelspec": {
      "name": "python3",
      "display_name": "Python 3"
    },
    "language_info": {
      "name": "python"
    }
  },
  "cells": [
    {
      "cell_type": "code",
      "execution_count": 1,
      "metadata": {
        "id": "94cLovFkSWgn"
      },
      "outputs": [],
      "source": [
        "import pandas as pd\n",
        "import numpy as np\n",
        "import random\n",
        "import matplotlib.pyplot as plt\n",
        "from matplotlib.collections import LineCollection\n",
        "from sklearn.cluster import KMeans"
      ]
    },
    {
      "cell_type": "code",
      "source": [
        "random.seed(1)"
      ],
      "metadata": {
        "id": "Ga4G1zrmTIi1"
      },
      "execution_count": 2,
      "outputs": []
    },
    {
      "cell_type": "code",
      "source": [
        "def update_loc_del():\n",
        "  everytime_dis = 0\n",
        "  #for all deliveries, update\n",
        "  for k in range(len(Map_del)):\n",
        "    if Way[k] != []:\n",
        "      # if the delivery is already at seller at begining\n",
        "      step_next = Way[k][0]\n",
        "      if Map_del[0][k] == Map['x'][step_next] and Map_del[1][k] == Map['y'][step_next] and step_next >= len(Map_cus):\n",
        "        del(Way[k][0])\n",
        "        \n",
        "    if Way[k] != []:\n",
        "      # find loc of next step\n",
        "      step_next = Way[k][0]\n",
        "      dx1 = Map['x'][step_next]-Map_del[0][k]\n",
        "      dy1 = Map['y'][step_next]-Map_del[1][k]\n",
        "\n",
        "      #print(\"next_xy\",Map['x'][step_next],Map['y'][step_next])\n",
        "      #print(\"now_xy\",Map_del[0][k],Map_del[1][k])\n",
        "\n",
        "      sin_theta = dy1/np.sqrt(dx1*dx1+dy1*dy1)\n",
        "      cos_theta = dx1/np.sqrt(dx1*dx1+dy1*dy1)\n",
        "      ## if achieve corner\n",
        "      if abs(sin_theta*speed) > abs(dy1) or abs(cos_theta*speed) > abs(dx1):\n",
        "\n",
        "        #print(\"encounter corner*******\")\n",
        "\n",
        "        # if not have next_next\n",
        "        if len(Way[k]) <= 1:\n",
        "          x_new = Map['x'][step_next]\n",
        "          y_new = Map['y'][step_next]\n",
        "          everytime_dis += np.sqrt((Map_del[0][k]-x_new)**2+(Map_del[1][k]-y_new)**2)\n",
        "\n",
        "        # if have next_next\n",
        "        else:\n",
        "          if sin_theta !=0:\n",
        "            t0 = dy1/(sin_theta*speed)\n",
        "          else:\n",
        "            t0 = dx1/(cos_theta*speed)\n",
        "          t1 = 1-t0\n",
        "          #print(\"t1: \", t1)\n",
        "          step_next_next = Way[k][1]\n",
        "          #print(\"next\", Way[k][0], \"x\", Map['x'][Way[k][0]], \"y\", Map['y'][Way[k][0]])\n",
        "          #print(\"next_next\", Way[k][1], \"x\", Map['x'][Way[k][1]], \"y\", Map['y'][Way[k][1]])\n",
        "\n",
        "          dx2 = Map['x'][step_next_next] - Map['x'][step_next]\n",
        "          dy2 = Map['y'][step_next_next] - Map['y'][step_next]\n",
        "          sin_beta = dy2/np.sqrt(dx2*dx2+dy2*dy2)\n",
        "          cos_beta = dx2/np.sqrt(dx2*dx2+dy2*dy2)\n",
        "          x_new = Map['x'][step_next] + t1*speed*cos_beta\n",
        "          y_new = Map['y'][step_next] + t1*speed*sin_beta\n",
        "        \n",
        "          if x_new != Map['x'][step_next] or y_new != Map['y'][step_next]:\n",
        "            #print(\"order\",Order[k])\n",
        "            del(Way[k][0])\n",
        "            Path[k].append([Map['x'][step_next],Map['y'][step_next]])\n",
        "            if step_next < len(Map_cus):\n",
        "              Num_orders[k] -= len(Order[k][step_next])\n",
        "              del Order[k][step_next]\n",
        "            #print(\"order_new\",Order[k])\n",
        "          \n",
        "          everytime_dis += np.sqrt((Map_del[0][k]-Map['x'][step_next])**2+(Map_del[1][k]-Map['y'][step_next])**2) + np.sqrt((Map['x'][step_next]-x_new)**2+(Map['y'][step_next]-y_new)**2)\n",
        "              \n",
        "\n",
        "      ## if not achieve corner\n",
        "      else:\n",
        "        #print(\"next: \",Way[k][0], Map['x'][Way[k][0]], Map['y'][Way[k][0]])\n",
        "        x_new = Map_del[0][k] + 1*speed*cos_theta\n",
        "        y_new = Map_del[1][k] + 1*speed*sin_theta\n",
        "      \n",
        "      everytime_dis += np.sqrt((Map_del[0][k]-x_new)**2+(Map_del[1][k]-y_new)**2)\n",
        "\n",
        "      if x_new == Map['x'][step_next] and y_new == Map['y'][step_next]:\n",
        "        #print(Way[k])\n",
        "        #print(\"new_xy\",x_new,y_new)\n",
        "        #print(\"next_step\",Map['x'][step_next],Map['y'][step_next] )\n",
        "        del(Way[k][0])\n",
        "        if step_next < len(Map_cus):\n",
        "          Num_orders[k] -= len(Order[k][step_next])\n",
        "          del Order[k][step_next]\n",
        "\n",
        "      #update\n",
        "      Map_del[0][k]=x_new\n",
        "      Map_del[1][k]=y_new\n",
        "\n",
        "      #print(\"k\",k,\"loc: \",x_new,y_new)\n",
        "\n",
        "    Path[k].append([Map_del[0][k],Map_del[1][k]])\n",
        "\n",
        "  return everytime_dis\n",
        "\n",
        "  "
      ],
      "metadata": {
        "id": "vJaZXOoUXRrF"
      },
      "execution_count": 3,
      "outputs": []
    },
    {
      "cell_type": "code",
      "source": [
        "def Obj_fun(temp_list_way, list_order):\n",
        "\n",
        "    distance = 0\n",
        "    time = [0]\n",
        "    for s in range(1,len(temp_list_way)):\n",
        "      # find the location of this step and previous step\n",
        "      step_id = temp_list_way[s]\n",
        "      p_step_id = temp_list_way[s-1]\n",
        "\n",
        "      loc_step_x = Map['x'][step_id]\n",
        "      loc_step_y = Map['y'][step_id]\n",
        "      loc_p_step_x = Map['x'][p_step_id]\n",
        "      loc_p_step_y = Map['y'][p_step_id]\n",
        "\n",
        "      # find the sum of the distance\n",
        "      distance_step = np.sqrt( (loc_step_x-loc_p_step_x)**2 + (loc_step_y-loc_p_step_y)**2 )\n",
        "      distance = distance + distance_step\n",
        "      # find the time\n",
        "      time.append(distance/speed)\n",
        "\n",
        "    # find sum of over time\n",
        "    sum_overtime = 0\n",
        "    kt =0\n",
        "    for i in range(len(temp_list_way)):\n",
        "      step_id = temp_list_way[i]\n",
        "      if step_id < len(Map_cus):\n",
        "        #print(\"way: \",temp_list_way)\n",
        "        #print(\"order\", list_order)\n",
        "        #print(\"step_id\",step_id)\n",
        "        for order_time in list_order[step_id]:\n",
        "          sum_overtime += max(time[i]-order_time,0)\n",
        "          kt += 1\n",
        "\n",
        "    return distance + sum_overtime\n",
        "    \n"
      ],
      "metadata": {
        "id": "SSYfAWJnvqD1"
      },
      "execution_count": 4,
      "outputs": []
    },
    {
      "cell_type": "code",
      "source": [
        "def Find_best_way(list_way, cus, sel, list_order):\n",
        "    cus_id = cus\n",
        "    sel_id = sel+len(Map_cus)\n",
        "\n",
        "    min_obj = 1000000\n",
        "    for start in range(len(list_way)+1):\n",
        "      temp_list_sel = list_way[0:start]+[sel_id]+list_way[start:]\n",
        "      for end in range(start+1, len(temp_list_sel)+1):\n",
        "        temp_list_sel_cus = temp_list_sel[0:end]+[cus_id]+temp_list_sel[end:]\n",
        "        obj = Obj_fun(temp_list_sel_cus, list_order)\n",
        "        if obj < min_obj:\n",
        "          min_obj = obj\n",
        "          min_obj_list = temp_list_sel_cus\n",
        "    \n",
        "    #print(min_obj_list)\n",
        "    min_obj_nodup = []\n",
        "    for i in min_obj_list: \n",
        "      if not i in min_obj_nodup: \n",
        "        min_obj_nodup.append(i) \n",
        "    #print(min_obj_nodup)\n",
        "\n",
        "    return min_obj_nodup\n"
      ],
      "metadata": {
        "id": "oRaVnNEzrjbO"
      },
      "execution_count": 5,
      "outputs": []
    },
    {
      "cell_type": "code",
      "source": [
        "def calculate_new_overtime(t):\n",
        "  num_new_overtime = 0\n",
        "  for k_order in Order:\n",
        "    for time_list in k_order.values():\n",
        "      for time in time_list:\n",
        "        if time == t:\n",
        "          #print(k_order)\n",
        "          num_new_overtime +=1\n",
        "  return num_new_overtime\n"
      ],
      "metadata": {
        "id": "Bpcc2_ktVcrD"
      },
      "execution_count": 6,
      "outputs": []
    },
    {
      "cell_type": "code",
      "source": [
        "def kmeans_cluster(remain_list, num_clusters):\n",
        "  X = []\n",
        "  for order in remain_list:\n",
        "    loc_cus_x = Map_cus[0][order[0]]\n",
        "    loc_cus_y = Map_cus[1][order[0]]\n",
        "    loc_sel_x = Map_sel[0][order[1]]\n",
        "    loc_sel_y = Map_sel[1][order[1]]\n",
        "    X.append([loc_cus_x,loc_cus_y,loc_sel_x,loc_sel_y])\n",
        "\n",
        "  clf = KMeans(n_clusters=num_clusters)\n",
        "  clf.fit(X) \n",
        " \n",
        "  centers = clf.cluster_centers_ \n",
        "  labels = clf.labels_ \n",
        "\n",
        "  list_qishou2center = []\n",
        "  for i in range(len(centers)):\n",
        "    c = centers[i]\n",
        "    min_dis = 1000000000\n",
        "    for k in range(len(Map_del)):\n",
        "      if Num_orders[k] < capacity:\n",
        "        dis = np.sqrt((Map_del[0][k] - c[0])**2 + (Map_del[1][k] - c[1])**2 + (Map_del[0][k] - c[2])**2 + (Map_del[1][k] - c[3])**2)\n",
        "        if dis < min_dis:\n",
        "          min_dis = dis\n",
        "          qishou = k\n",
        "    list_qishou2center.append(qishou)\n",
        "  \n",
        "  list_qishou2order = []\n",
        "  for i in labels:\n",
        "    list_qishou2order.append(list_qishou2center[i])\n",
        "  \n",
        "  qishou2order_dic = {}\n",
        "  for j in range(len(remain_list)):\n",
        "    if list_qishou2order[j] in qishou2order_dic.keys():\n",
        "      qishou2order_dic[list_qishou2order[j]].append(j)\n",
        "    else:\n",
        "      qishou2order_dic[list_qishou2order[j]] = [j]\n",
        "\n",
        "  return qishou2order_dic"
      ],
      "metadata": {
        "id": "qglCrDPuwaoc"
      },
      "execution_count": 7,
      "outputs": []
    },
    {
      "cell_type": "code",
      "source": [
        "overtime_list_result = []\n",
        "cancel_list_result = []\n",
        "rundis_list_result = []"
      ],
      "metadata": {
        "id": "MXLWiKr1I38C"
      },
      "execution_count": 8,
      "outputs": []
    },
    {
      "cell_type": "code",
      "source": [
        "def method2(capacity):\n",
        "\n",
        "  #########Method 2#######\n",
        "  wait_list = []\n",
        "  new_num_order_canceled = 0\n",
        "  sum_num_order_canceled = 0\n",
        "  sum_num_overtime = 0\n",
        "  num_order_lower = 20\n",
        "  num_order_upper = 40\n",
        "  sum_dis = 0\n",
        "  random.seed(1)\n",
        "\n",
        "  for t in range(0,180):\n",
        "    print(\"##########\",t,\"############\")\n",
        "    # update the location of all deliveries every minute\n",
        "    everytime_dis = update_loc_del()\n",
        "    sum_dis += everytime_dis\n",
        "\n",
        "    # find the number of new overtime orders\n",
        "    num_new_overtime = calculate_new_overtime(t)\n",
        "    sum_num_overtime += num_new_overtime\n",
        "    #print(\"num_new_overtime\", num_new_overtime)\n",
        "\n",
        "    # decide whether cancel the orders in the waitlist\n",
        "    if wait_list != []:\n",
        "      new_num_order_canceled = 0\n",
        "      for order in wait_list:\n",
        "        # if wait more than 10 min, cancel\n",
        "        #print(order[2])\n",
        "        if t - order[2] >=10:\n",
        "          #print(\"cancel\")\n",
        "          wait_list.remove(order)\n",
        "          new_num_order_canceled +=1\n",
        "\n",
        "    sum_num_order_canceled += new_num_order_canceled\n",
        "\n",
        "    remain_list = wait_list.copy()\n",
        "    wait_list = []\n",
        "    # decide how many orders generated in this minute\n",
        "  \n",
        "    punish = int(1 *new_num_order_canceled + 0.5 *num_new_overtime)\n",
        "    #print(\"pubish\",punish)\n",
        "    num_order = random.randint(num_order_lower - punish , num_order_upper - punish)\n",
        "    #print(\"num_order\",num_order)\n",
        "    if num_order <0:\n",
        "      #print(\"no order!!\")\n",
        "      continue\n",
        "    for order in range(num_order):\n",
        "      # decide the customer and seller of the order\n",
        "      cus = random.randint(0,len(Map_cus)-1)\n",
        "      sel = random.randint(0,len(Map_sel)-1)\n",
        "      remain_list.append([cus,sel,t])\n",
        "  \n",
        "    # number of available deliveries\n",
        "    num_available = 0\n",
        "    for k in range(len(Map_del)):\n",
        "      if Num_orders[k] < capacity:\n",
        "        num_available += 1 \n",
        "    num_clusters = min(num_available, len(remain_list))\n",
        "\n",
        "    # do clustering\n",
        "    if num_clusters == 0:\n",
        "      for order in remain_list:\n",
        "        wait_list.append(order)\n",
        "        continue\n",
        "    else:\n",
        "      qishou2order_dic = kmeans_cluster(remain_list, num_clusters)\n",
        "  \n",
        "    for qishou in qishou2order_dic.keys():\n",
        "      num_remain_orders = capacity - Num_orders[qishou]\n",
        "      need_space = len(qishou2order_dic[qishou])\n",
        "      # if can take all orders\n",
        "      if num_remain_orders >= need_space:\n",
        "        for order_id in qishou2order_dic[qishou]:\n",
        "          Num_orders[qishou] +=1\n",
        "          cus = remain_list[order_id][0]\n",
        "          sel = remain_list[order_id][1]\n",
        "          if cus in Order[qishou].keys():\n",
        "            Order[qishou][cus].append(t+45)\n",
        "          else:\n",
        "            Order[qishou][cus] = [t+45]\n",
        "          new_way = Find_best_way(Way[qishou],cus,sel,Order[qishou])\n",
        "          Way[qishou] = new_way\n",
        "\n",
        "      # if cannot take all\n",
        "      else:\n",
        "        take_list = qishou2order_dic[qishou][0:num_remain_orders]\n",
        "        notaken_list = qishou2order_dic[qishou][num_remain_orders:]\n",
        "\n",
        "        for order_id in notaken_list:\n",
        "          cus = remain_list[order_id][0]\n",
        "          sel = remain_list[order_id][1]\n",
        "          wait_list.append([cus,sel,remain_list[order_id][2]])\n",
        "\n",
        "        for order_id in take_list:\n",
        "          Num_orders[qishou] +=1\n",
        "          cus = remain_list[order_id][0]\n",
        "          sel = remain_list[order_id][1]\n",
        "          if cus in Order[qishou].keys():\n",
        "            Order[qishou][cus].append(t+45)\n",
        "          else:\n",
        "            Order[qishou][cus] = [t+45]\n",
        "          new_way = Find_best_way(Way[qishou],cus,sel,Order[qishou])\n",
        "          Way[qishou] = new_way\n",
        "\n",
        "  return sum_num_overtime, sum_num_order_canceled, sum_dis\n"
      ],
      "metadata": {
        "id": "J5pWo8vcWcOl"
      },
      "execution_count": 10,
      "outputs": []
    },
    {
      "cell_type": "code",
      "source": [
        "capacity = 10\n",
        "for round in range(1):\n",
        "  Map_cus = pd.DataFrame([[4,4],[11,5],[16,4],[9,6],[10,6],[16,6],[10,8],[15,8],[17,8],[10,9],[11,9],[14,9],[15,9],[18,9],[13,10],[14,10],[18,10],[19,11],[18,11],[9,12],[14,12],[16,12],[9,13],[10,13],[11,14],[12,14],[15,14],[19,14],[20,14],[10,15],[11,15],[12,15],[13,15],[16,15],[19,15],[21,15],[10,16],[12,16],[15,16],[19,16],[20,16],[20,17],[21,17],[11,18],[12,18],[21,18],[19,20],[14,21],[17,23],[15,24],[11,27]])\n",
        "  Map_sel = pd.DataFrame([[8,4],[10,5],[16,8],[12,9],[9,11],[13,11],[17,11],[19,10],[17,15],[9,16],[17,16],[21,16],[19,17],[12,19],[18,19]])\n",
        "  Map = pd.concat([Map_cus,Map_sel]).reset_index()\n",
        "  Map.columns = ['num','x','y']\n",
        "  speed = 1\n",
        "\n",
        "  random.seed(1)\n",
        "  Map_del = []\n",
        "  Way = []\n",
        "  Order = []\n",
        "  Num_orders = []\n",
        "  Path = []\n",
        "  for i in range(100):\n",
        "    Map_del.append([float(random.randint(0,22)),float(random.randint(0,29))])\n",
        "    Way.append([])\n",
        "    Order.append({})\n",
        "    Num_orders.append(0)\n",
        "    Path.append([])\n",
        "  Map_del = pd.DataFrame(Map_del)\n",
        "\n",
        "  overtime_result, cancel_result, rundis_result = method2(capacity)\n",
        "  overtime_list_result.append(overtime_result)\n",
        "  cancel_list_result.append(cancel_result)\n",
        "  rundis_list_result.append(rundis_result)"
      ],
      "metadata": {
        "colab": {
          "base_uri": "https://localhost:8080/"
        },
        "id": "A9DhVfKmLixg",
        "outputId": "63120232-24ee-410d-b4df-ec3bfa4d2c2c"
      },
      "execution_count": 11,
      "outputs": [
        {
          "output_type": "stream",
          "name": "stdout",
          "text": [
            "########## 0 ############\n",
            "########## 1 ############\n",
            "########## 2 ############\n"
          ]
        },
        {
          "output_type": "stream",
          "name": "stderr",
          "text": [
            "/usr/local/lib/python3.7/dist-packages/ipykernel_launcher.py:11: ConvergenceWarning: Number of distinct clusters (33) found smaller than n_clusters (35). Possibly due to duplicate points in X.\n",
            "  # This is added back by InteractiveShellApp.init_path()\n"
          ]
        },
        {
          "output_type": "stream",
          "name": "stdout",
          "text": [
            "########## 3 ############\n",
            "########## 4 ############\n"
          ]
        },
        {
          "output_type": "stream",
          "name": "stderr",
          "text": [
            "/usr/local/lib/python3.7/dist-packages/ipykernel_launcher.py:11: ConvergenceWarning: Number of distinct clusters (27) found smaller than n_clusters (28). Possibly due to duplicate points in X.\n",
            "  # This is added back by InteractiveShellApp.init_path()\n"
          ]
        },
        {
          "output_type": "stream",
          "name": "stdout",
          "text": [
            "########## 5 ############\n"
          ]
        },
        {
          "output_type": "stream",
          "name": "stderr",
          "text": [
            "/usr/local/lib/python3.7/dist-packages/ipykernel_launcher.py:11: ConvergenceWarning: Number of distinct clusters (24) found smaller than n_clusters (25). Possibly due to duplicate points in X.\n",
            "  # This is added back by InteractiveShellApp.init_path()\n"
          ]
        },
        {
          "output_type": "stream",
          "name": "stdout",
          "text": [
            "########## 6 ############\n"
          ]
        },
        {
          "output_type": "stream",
          "name": "stderr",
          "text": [
            "/usr/local/lib/python3.7/dist-packages/ipykernel_launcher.py:11: ConvergenceWarning: Number of distinct clusters (33) found smaller than n_clusters (35). Possibly due to duplicate points in X.\n",
            "  # This is added back by InteractiveShellApp.init_path()\n"
          ]
        },
        {
          "output_type": "stream",
          "name": "stdout",
          "text": [
            "########## 7 ############\n"
          ]
        },
        {
          "output_type": "stream",
          "name": "stderr",
          "text": [
            "/usr/local/lib/python3.7/dist-packages/ipykernel_launcher.py:11: ConvergenceWarning: Number of distinct clusters (30) found smaller than n_clusters (34). Possibly due to duplicate points in X.\n",
            "  # This is added back by InteractiveShellApp.init_path()\n"
          ]
        },
        {
          "output_type": "stream",
          "name": "stdout",
          "text": [
            "########## 8 ############\n",
            "########## 9 ############\n"
          ]
        },
        {
          "output_type": "stream",
          "name": "stderr",
          "text": [
            "/usr/local/lib/python3.7/dist-packages/ipykernel_launcher.py:11: ConvergenceWarning: Number of distinct clusters (40) found smaller than n_clusters (42). Possibly due to duplicate points in X.\n",
            "  # This is added back by InteractiveShellApp.init_path()\n"
          ]
        },
        {
          "output_type": "stream",
          "name": "stdout",
          "text": [
            "########## 10 ############\n"
          ]
        },
        {
          "output_type": "stream",
          "name": "stderr",
          "text": [
            "/usr/local/lib/python3.7/dist-packages/ipykernel_launcher.py:11: ConvergenceWarning: Number of distinct clusters (50) found smaller than n_clusters (52). Possibly due to duplicate points in X.\n",
            "  # This is added back by InteractiveShellApp.init_path()\n"
          ]
        },
        {
          "output_type": "stream",
          "name": "stdout",
          "text": [
            "########## 11 ############\n"
          ]
        },
        {
          "output_type": "stream",
          "name": "stderr",
          "text": [
            "/usr/local/lib/python3.7/dist-packages/ipykernel_launcher.py:11: ConvergenceWarning: Number of distinct clusters (62) found smaller than n_clusters (65). Possibly due to duplicate points in X.\n",
            "  # This is added back by InteractiveShellApp.init_path()\n"
          ]
        },
        {
          "output_type": "stream",
          "name": "stdout",
          "text": [
            "########## 12 ############\n"
          ]
        },
        {
          "output_type": "stream",
          "name": "stderr",
          "text": [
            "/usr/local/lib/python3.7/dist-packages/ipykernel_launcher.py:11: ConvergenceWarning: Number of distinct clusters (54) found smaller than n_clusters (55). Possibly due to duplicate points in X.\n",
            "  # This is added back by InteractiveShellApp.init_path()\n"
          ]
        },
        {
          "output_type": "stream",
          "name": "stdout",
          "text": [
            "########## 13 ############\n"
          ]
        },
        {
          "output_type": "stream",
          "name": "stderr",
          "text": [
            "/usr/local/lib/python3.7/dist-packages/ipykernel_launcher.py:11: ConvergenceWarning: Number of distinct clusters (51) found smaller than n_clusters (52). Possibly due to duplicate points in X.\n",
            "  # This is added back by InteractiveShellApp.init_path()\n"
          ]
        },
        {
          "output_type": "stream",
          "name": "stdout",
          "text": [
            "########## 14 ############\n",
            "########## 15 ############\n",
            "########## 16 ############\n",
            "########## 17 ############\n",
            "########## 18 ############\n",
            "########## 19 ############\n",
            "########## 20 ############\n",
            "########## 21 ############\n",
            "########## 22 ############\n",
            "########## 23 ############\n",
            "########## 24 ############\n",
            "########## 25 ############\n",
            "########## 26 ############\n",
            "########## 27 ############\n",
            "########## 28 ############\n",
            "########## 29 ############\n",
            "########## 30 ############\n",
            "########## 31 ############\n",
            "########## 32 ############\n",
            "########## 33 ############\n",
            "########## 34 ############\n",
            "########## 35 ############\n",
            "########## 36 ############\n",
            "########## 37 ############\n",
            "########## 38 ############\n",
            "########## 39 ############\n",
            "########## 40 ############\n",
            "########## 41 ############\n",
            "########## 42 ############\n",
            "########## 43 ############\n",
            "########## 44 ############\n",
            "########## 45 ############\n",
            "########## 46 ############\n",
            "########## 47 ############\n",
            "########## 48 ############\n",
            "########## 49 ############\n",
            "########## 50 ############\n",
            "########## 51 ############\n",
            "########## 52 ############\n",
            "########## 53 ############\n",
            "########## 54 ############\n",
            "########## 55 ############\n",
            "########## 56 ############\n",
            "########## 57 ############\n",
            "########## 58 ############\n",
            "########## 59 ############\n",
            "########## 60 ############\n",
            "########## 61 ############\n",
            "########## 62 ############\n",
            "########## 63 ############\n",
            "########## 64 ############\n",
            "########## 65 ############\n",
            "########## 66 ############\n",
            "########## 67 ############\n",
            "########## 68 ############\n",
            "########## 69 ############\n",
            "########## 70 ############\n",
            "########## 71 ############\n",
            "########## 72 ############\n",
            "########## 73 ############\n",
            "########## 74 ############\n",
            "########## 75 ############\n",
            "########## 76 ############\n",
            "########## 77 ############\n",
            "########## 78 ############\n",
            "########## 79 ############\n",
            "########## 80 ############\n",
            "########## 81 ############\n",
            "########## 82 ############\n",
            "########## 83 ############\n",
            "########## 84 ############\n",
            "########## 85 ############\n",
            "########## 86 ############\n",
            "########## 87 ############\n",
            "########## 88 ############\n",
            "########## 89 ############\n",
            "########## 90 ############\n",
            "########## 91 ############\n",
            "########## 92 ############\n",
            "########## 93 ############\n",
            "########## 94 ############\n",
            "########## 95 ############\n",
            "########## 96 ############\n",
            "########## 97 ############\n",
            "########## 98 ############\n",
            "########## 99 ############\n",
            "########## 100 ############\n",
            "########## 101 ############\n",
            "########## 102 ############\n",
            "########## 103 ############\n",
            "########## 104 ############\n",
            "########## 105 ############\n",
            "########## 106 ############\n",
            "########## 107 ############\n",
            "########## 108 ############\n",
            "########## 109 ############\n",
            "########## 110 ############\n",
            "########## 111 ############\n",
            "########## 112 ############\n",
            "########## 113 ############\n",
            "########## 114 ############\n",
            "########## 115 ############\n",
            "########## 116 ############\n",
            "########## 117 ############\n",
            "########## 118 ############\n",
            "########## 119 ############\n",
            "########## 120 ############\n",
            "########## 121 ############\n",
            "########## 122 ############\n",
            "########## 123 ############\n",
            "########## 124 ############\n",
            "########## 125 ############\n",
            "########## 126 ############\n",
            "########## 127 ############\n",
            "########## 128 ############\n",
            "########## 129 ############\n",
            "########## 130 ############\n",
            "########## 131 ############\n",
            "########## 132 ############\n",
            "########## 133 ############\n",
            "########## 134 ############\n",
            "########## 135 ############\n",
            "########## 136 ############\n",
            "########## 137 ############\n",
            "########## 138 ############\n",
            "########## 139 ############\n",
            "########## 140 ############\n",
            "########## 141 ############\n",
            "########## 142 ############\n",
            "########## 143 ############\n",
            "########## 144 ############\n",
            "########## 145 ############\n",
            "########## 146 ############\n",
            "########## 147 ############\n",
            "########## 148 ############\n",
            "########## 149 ############\n",
            "########## 150 ############\n",
            "########## 151 ############\n",
            "########## 152 ############\n",
            "########## 153 ############\n",
            "########## 154 ############\n",
            "########## 155 ############\n",
            "########## 156 ############\n",
            "########## 157 ############\n",
            "########## 158 ############\n",
            "########## 159 ############\n",
            "########## 160 ############\n",
            "########## 161 ############\n",
            "########## 162 ############\n",
            "########## 163 ############\n",
            "########## 164 ############\n",
            "########## 165 ############\n",
            "########## 166 ############\n",
            "########## 167 ############\n",
            "########## 168 ############\n",
            "########## 169 ############\n",
            "########## 170 ############\n",
            "########## 171 ############\n",
            "########## 172 ############\n",
            "########## 173 ############\n",
            "########## 174 ############\n",
            "########## 175 ############\n",
            "########## 176 ############\n",
            "########## 177 ############\n",
            "########## 178 ############\n",
            "########## 179 ############\n"
          ]
        }
      ]
    },
    {
      "cell_type": "code",
      "source": [
        "print(\"overtime: \",sum(overtime_list_result)/len(overtime_list_result))\n",
        "print(\"cancel: \",sum(cancel_list_result)/len(cancel_list_result))\n",
        "print(\"distance: \",sum(rundis_list_result)/len(rundis_list_result))\n"
      ],
      "metadata": {
        "id": "4FjDDQTSQGKf"
      },
      "execution_count": null,
      "outputs": []
    },
    {
      "cell_type": "code",
      "source": [
        "# Data for plotting\n",
        "path_data = pd.DataFrame(Path[0])\n",
        "\n",
        "x=np.array(path_data[0][0])\n",
        "y=np.array(path_data[1][0])\n",
        "for i in range(len(path_data)-1):\n",
        "  x = np.hstack((x,(np.linspace(path_data[0][i], path_data[0][i+1], 1))))\n",
        "  y = np.hstack((y,(np.linspace(path_data[1][i], path_data[1][i+1], 1))))\n",
        "\n",
        "color = np.array([i for i in range(len(path_data))])\n",
        "\n",
        "points = np.array([x, y]).T.reshape(-1, 1, 2)\n",
        "segments = np.concatenate([points[:-1], points[1:]], axis=1)\n",
        "\n",
        "fig, axs = plt.subplots(figsize=(11,14.5))\n",
        "\n",
        "# Create a continuous norm to map from data points to colors\n",
        "norm = plt.Normalize(color.min(), color.max())\n",
        "lc = LineCollection(segments, cmap='viridis', norm=norm)\n",
        "# Set the values used for colormapping\n",
        "lc.set_array(color)\n",
        "lc.set_linewidth(2)\n",
        "\n",
        "line = axs.add_collection(lc)\n",
        "fig.colorbar(line, ax=axs)\n",
        "\n",
        "axs.set_xlim(0-0.5, 22+0.5)\n",
        "axs.set_ylim(0-0.5, 29+0.5)\n",
        "\n",
        "axs.set(xlabel='x', ylabel='y', title='Path')\n",
        "axs.grid()\n",
        "\n",
        "fig.savefig(\"method2.png\")\n",
        "plt.show()\n"
      ],
      "metadata": {
        "id": "gHBrtZvCMu2n"
      },
      "execution_count": null,
      "outputs": []
    },
    {
      "cell_type": "code",
      "source": [
        "Path[1]"
      ],
      "metadata": {
        "id": "ddx9j9xYWYRz"
      },
      "execution_count": null,
      "outputs": []
    }
  ]
}